{
 "cells": [
  {
   "cell_type": "code",
   "execution_count": 1,
   "metadata": {},
   "outputs": [],
   "source": [
    "##IMPORT PACKAGES\n",
    "%matplotlib inline\n",
    "\n",
    "from pathlib import Path\n",
    "\n",
    "import pandas as pd\n",
    "from sklearn import preprocessing\n",
    "from sklearn.model_selection import train_test_split\n",
    "from sklearn.metrics import accuracy_score, confusion_matrix, classification_report\n",
    "from sklearn.neighbors import NearestNeighbors, KNeighborsClassifier\n",
    "from sklearn.preprocessing import StandardScaler\n",
    "from sklearn.compose import ColumnTransformer\n",
    "import matplotlib.pylab as plt"
   ]
  },
  {
   "cell_type": "code",
   "execution_count": 2,
   "metadata": {},
   "outputs": [],
   "source": [
    "##IMPORT AND TRANSFORM DATA\n",
    "\n",
    "#import .csv and create cust_test_df\n",
    "ubank_df = pd.read_csv('UniversalBank.csv')\n",
    "data = {'ID': [5001], 'ZIP.Code': [43016],\n",
    "                          'Age': [40],\n",
    "                          'Experience': [10],\n",
    "                          'Income': [84],\n",
    "                          'Family': [2],\n",
    "                          'CCAvg': [2],\n",
    "                          'Mortgage': [0],\n",
    "                          'Securities Account': [0],\n",
    "                          'CD Account': [0],\n",
    "                          'Online': [1],\n",
    "                          'CreditCard': [1],\n",
    "                          'Education_1': [0],\n",
    "                          'Education_2': [1],\n",
    "                          'Education_3': [0],\n",
    "                          'Personal Loan': [1]}\n",
    "cust_test_df = pd.DataFrame(data=data)\n",
    "\n",
    "#converting Education into dummy variable and adding to dataset\n",
    "dummy = pd.get_dummies(ubank_df['Education']).rename(columns=lambda x: 'Education_' + str(x))\n",
    "ubank_df = pd.concat([ubank_df, dummy], axis =1)\n",
    "ubank_df = ubank_df.drop(['Education'],axis=1)\n",
    "\n",
    "#reorder columns so PersonalLoan is [:-1]\n",
    "ubank_df = ubank_df[['ID', 'ZIP Code', 'Age', 'Experience', 'Income', 'Family', 'CCAvg',\n",
    "       'Mortgage', 'Securities Account', 'CD Account', 'Online', 'CreditCard', 'Education_1', 'Education_2', 'Education_3', 'Personal Loan']]"
   ]
  },
  {
   "cell_type": "code",
   "execution_count": 9,
   "metadata": {},
   "outputs": [
    {
     "name": "stderr",
     "output_type": "stream",
     "text": [
      "C:\\Users\\harri\\anaconda3\\lib\\site-packages\\pandas\\core\\indexing.py:966: SettingWithCopyWarning: \n",
      "A value is trying to be set on a copy of a slice from a DataFrame.\n",
      "Try using .loc[row_indexer,col_indexer] = value instead\n",
      "\n",
      "See the caveats in the documentation: https://pandas.pydata.org/pandas-docs/stable/user_guide/indexing.html#returning-a-view-versus-a-copy\n",
      "  self.obj[item] = s\n"
     ]
    }
   ],
   "source": [
    "##SPLIT AND SCALE\n",
    "#split\n",
    "X = ubank_df.iloc[:,2:-1]\n",
    "y = ubank_df.iloc[:,-1]\n",
    "X_train, X_valid, y_train, y_valid = train_test_split(X, y, test_size = 0.4, random_state=6011)\n",
    "\n",
    "X_cust = cust_test_df.iloc[:,2:-1]\n",
    "y_cust = pd.DataFrame(data=cust_test_df.iloc[:,-1])\n",
    "\n",
    "#scaling\n",
    "scaled_X_train = X_train\n",
    "col_names = ['Age','Experience','Income','Family','CCAvg','Mortgage']\n",
    "scaled_X_train = X_train[col_names]\n",
    "scaler = StandardScaler().fit(scaled_X_train.values)\n",
    "scaled_X_train = scaler.transform(scaled_X_train.values)\n",
    "X_train.loc[:,:6] = scaled_X_train"
   ]
  },
  {
   "cell_type": "code",
   "execution_count": 8,
   "metadata": {},
   "outputs": [
    {
     "name": "stdout",
     "output_type": "stream",
     "text": [
      "[1]\n"
     ]
    }
   ],
   "source": [
    "##CLASSIFICATION FOR CUSTOMER\n",
    "classifier = KNeighborsClassifier(n_neighbors=1)\n",
    "classifier.fit(X_train, y_train)\n",
    "\n",
    "y_pred = classifier.predict(X_cust)\n",
    "print(y_pred)\n",
    "#This customer would be classified as likely to accept a personal loan if offered."
   ]
  },
  {
   "cell_type": "code",
   "execution_count": null,
   "metadata": {},
   "outputs": [],
   "source": [
    "##CLASSIFICATION AND CONFUSION MATRIX FOR BEST K\n",
    "classifier = KNeighborsClassifier(n_neighbors=1)\n",
    "classifier.fit(X_train, y_train)\n",
    "\n",
    "y_pred = classifier.predict(X_cust)\n",
    "\n",
    "#This customer would be classified as likely to accept a personal loan if offered.\n",
    "\n",
    "y_pred = classifier.predict(X_valid)\n",
    "print(confusion_matrix(y_valid, y_pred))\n",
    "print(classification_report(y_valid, y_pred))"
   ]
  }
 ],
 "metadata": {
  "kernelspec": {
   "display_name": "Python 3",
   "language": "python",
   "name": "python3"
  },
  "language_info": {
   "codemirror_mode": {
    "name": "ipython",
    "version": 3
   },
   "file_extension": ".py",
   "mimetype": "text/x-python",
   "name": "python",
   "nbconvert_exporter": "python",
   "pygments_lexer": "ipython3",
   "version": "3.8.3"
  }
 },
 "nbformat": 4,
 "nbformat_minor": 4
}
