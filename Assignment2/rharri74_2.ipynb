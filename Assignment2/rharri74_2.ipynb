{
 "cells": [
  {
   "cell_type": "code",
   "execution_count": 1,
   "metadata": {},
   "outputs": [],
   "source": [
    "##IMPORT PACKAGES\n",
    "%matplotlib inline\n",
    "\n",
    "from pathlib import Path\n",
    "\n",
    "import pandas as pd\n",
    "import numpy as np\n",
    "from sklearn import preprocessing\n",
    "from sklearn.model_selection import train_test_split\n",
    "from sklearn.metrics import accuracy_score, confusion_matrix, classification_report\n",
    "from sklearn.neighbors import NearestNeighbors, KNeighborsClassifier\n",
    "from sklearn.preprocessing import StandardScaler\n",
    "from sklearn.compose import ColumnTransformer\n",
    "import matplotlib.pylab as plt"
   ]
  },
  {
   "cell_type": "code",
   "execution_count": 2,
   "metadata": {},
   "outputs": [],
   "source": [
    "##IMPORT AND TRANSFORM DATA\n",
    "\n",
    "#import .csv and create cust_test_df\n",
    "ubank_df = pd.read_csv('UniversalBank.csv')\n",
    "data = {'ID': [5001], 'ZIP.Code': [43016],\n",
    "                          'Age': [40],\n",
    "                          'Experience': [10],\n",
    "                          'Income': [84],\n",
    "                          'Family': [2],\n",
    "                          'CCAvg': [2],\n",
    "                          'Mortgage': [0],\n",
    "                          'Securities Account': [0],\n",
    "                          'CD Account': [0],\n",
    "                          'Online': [1],\n",
    "                          'CreditCard': [1],\n",
    "                          'Education_1': [0],\n",
    "                          'Education_2': [1],\n",
    "                          'Education_3': [0],\n",
    "                          'Personal Loan': [1]}\n",
    "cust_test_df = pd.DataFrame(data=data)\n",
    "\n",
    "#converting Education into dummy variable and adding to dataset\n",
    "dummy = pd.get_dummies(ubank_df['Education']).rename(columns=lambda x: 'Education_' + str(x))\n",
    "ubank_df = pd.concat([ubank_df, dummy], axis =1)\n",
    "ubank_df = ubank_df.drop(['Education'],axis=1)\n",
    "\n",
    "#reorder columns so PersonalLoan is [:-1]\n",
    "ubank_df = ubank_df[['ID', 'ZIP Code', 'Age', 'Experience', 'Income', 'Family', 'CCAvg',\n",
    "       'Mortgage', 'Securities Account', 'CD Account', 'Online', 'CreditCard', 'Education_1', 'Education_2', 'Education_3', 'Personal Loan']]"
   ]
  },
  {
   "cell_type": "code",
   "execution_count": 3,
   "metadata": {},
   "outputs": [],
   "source": [
    "##SPLIT AND SCALE\n",
    "#split\n",
    "X = ubank_df.iloc[:,2:-1]\n",
    "y = ubank_df.iloc[:,-1]\n",
    "X_train, X_val, y_train, y_val = train_test_split(X, y, test_size = 0.4, random_state=6011)\n",
    "#prepare x and y for cust_test\n",
    "X_cust = cust_test_df.iloc[:,2:-1]\n",
    "y_cust = pd.DataFrame(data=cust_test_df.iloc[:,-1])\n",
    "\n",
    "#normalization\n",
    "scaler = preprocessing.StandardScaler()\n",
    "scaler.fit(X_train[['Age','Experience','Income','Family','CCAvg','Mortgage']])\n",
    "ubanknorm = pd.concat([pd.DataFrame(scaler.transform(X[['Age','Experience','Income','Family','CCAvg','Mortgage']]),\n",
    "                                   columns = ['zAge','zExperience','zIncome','zFamily','zCCAvg','zMortgage']),\n",
    "                       X[['Securities Account', 'CD Account', 'Online', 'CreditCard', 'Education_1', 'Education_2', 'Education_3']]], axis=1)\n",
    "trainNorm = ubanknorm.iloc[X_train.index]\n",
    "validNorm = ubanknorm.iloc[X_val.index]"
   ]
  },
  {
   "cell_type": "code",
   "execution_count": 4,
   "metadata": {},
   "outputs": [
    {
     "name": "stdout",
     "output_type": "stream",
     "text": [
      "[0]\n"
     ]
    }
   ],
   "source": [
    "##CLASSIFICATION FOR CUSTOMER\n",
    "classifier = KNeighborsClassifier(n_neighbors=1)\n",
    "classifier.fit(X_train, y_train)\n",
    "\n",
    "y_pred = classifier.predict(X_cust)\n",
    "print(y_pred)\n",
    "#Explain how this customer would be classified.\n",
    "    #This customer would be classified as unlikely to accept a personal loan if offered."
   ]
  },
  {
   "cell_type": "code",
   "execution_count": 5,
   "metadata": {},
   "outputs": [
    {
     "name": "stdout",
     "output_type": "stream",
     "text": [
      "[0.0295, 0.0385, 0.027, 0.039, 0.0325, 0.039, 0.0355, 0.0435, 0.038, 0.044, 0.0415, 0.0455, 0.0415, 0.044, 0.041, 0.048, 0.044, 0.0515, 0.048, 0.054, 0.051, 0.0555, 0.053, 0.057, 0.0545, 0.0595, 0.0585, 0.061, 0.058, 0.062, 0.0595, 0.0625, 0.0605, 0.0625, 0.062, 0.063, 0.0615, 0.063, 0.062]\n"
     ]
    },
    {
     "data": {
      "image/png": "[encoded data removed]",
      "text/plain": [
       "<Figure size 720x432 with 1 Axes>"
      ]
     },
     "metadata": {
      "needs_background": "light"
     },
     "output_type": "display_data"
    }
   ],
   "source": [
    "##CLASSIFICATION AND CONFUSION MATRIX FOR BEST K\n",
    "error = []\n",
    "\n",
    "for i in range (1, 40):\n",
    "    knn = KNeighborsClassifier(n_neighbors=i)\n",
    "    knn.fit(trainNorm, y_train)\n",
    "    pred_i = knn.predict(validNorm)\n",
    "    error.append(np.mean(pred_i != y_val))\n",
    "\n",
    "plt.figure(figsize=(10,6))\n",
    "plt.plot(range(1,40), error, color='black', marker = 'o', markersize=8, markerfacecolor='red')\n",
    "\n",
    "\n",
    "print(error)\n",
    "\n",
    "#Discuss the choice of k that balances between overfitting and ignoring the predictor information\n",
    "    #K = 3 appears to be the best fit, having the lowest error rate, but enough of a sample to avoid overfitting."
   ]
  },
  {
   "cell_type": "code",
   "execution_count": 6,
   "metadata": {},
   "outputs": [
    {
     "name": "stdout",
     "output_type": "stream",
     "text": [
      "[[1816    2]\n",
      " [  52  130]]\n",
      "              precision    recall  f1-score   support\n",
      "\n",
      "           0       0.97      1.00      0.99      1818\n",
      "           1       0.98      0.71      0.83       182\n",
      "\n",
      "    accuracy                           0.97      2000\n",
      "   macro avg       0.98      0.86      0.91      2000\n",
      "weighted avg       0.97      0.97      0.97      2000\n",
      "\n"
     ]
    }
   ],
   "source": [
    "#Show the confusion matrix for the validation data that results from using the best k and explain different error types that you observe.\n",
    "##kNN USING K = 3\n",
    "classifier = KNeighborsClassifier(n_neighbors=3)\n",
    "classifier.fit(trainNorm, y_train)\n",
    "y_pred = classifier.predict(validNorm)\n",
    "print(confusion_matrix(y_val, y_pred))\n",
    "print(classification_report(y_val, y_pred))\n",
    "\n",
    "    #This algorithm correctly predicted 97% of customers. There were, however, 2 customers who were predicted as Yes, when they were actually no. This is called a \"False Positive\"\n",
    "    #In addition, we saw 52 customers who were incorrectly predicted as no when they were actually a yes. This type of error is called \"False Negative\""
   ]
  },
  {
   "cell_type": "code",
   "execution_count": 7,
   "metadata": {},
   "outputs": [
    {
     "name": "stdout",
     "output_type": "stream",
     "text": [
      "[1]\n"
     ]
    }
   ],
   "source": [
    "##CLASSIFICATION FOR CUSTOMER WITH BEST K\n",
    "classifier = KNeighborsClassifier(n_neighbors=3)\n",
    "classifier.fit(trainNorm, y_train)\n",
    "\n",
    "y_pred = classifier.predict(X_cust)\n",
    "print(y_pred)\n",
    "\n",
    "    #This customer would be classified as likely to accept a personal loan if offered."
   ]
  },
  {
   "cell_type": "code",
   "execution_count": 8,
   "metadata": {},
   "outputs": [],
   "source": [
    "##REPARTITION DATA INTO TRAINING, VALIDATION AND TEST SETS\n",
    "X = ubank_df.iloc[:,2:-1]\n",
    "y = ubank_df.iloc[:,-1]\n",
    "X_train, X_test, y_train, y_test = train_test_split(X, y, test_size = 0.2, random_state=6011)\n",
    "X_train, X_val, y_train, y_val = train_test_split(X_train, y_train, test_size = .375, random_state=6011)\n",
    "#prepare x and y for cust_test\n",
    "X_cust = cust_test_df.iloc[:,2:-1]\n",
    "y_cust = pd.DataFrame(data=cust_test_df.iloc[:,-1])\n",
    "\n",
    "#normalization\n",
    "scaler = preprocessing.StandardScaler()\n",
    "scaler.fit(X_train[['Age','Experience','Income','Family','CCAvg','Mortgage']])\n",
    "ubanknorm = pd.concat([pd.DataFrame(scaler.transform(X[['Age','Experience','Income','Family','CCAvg','Mortgage']]),\n",
    "                                   columns = ['zAge','zExperience','zIncome','zFamily','zCCAvg','zMortgage']),\n",
    "                       X[['Securities Account', 'CD Account', 'Online', 'CreditCard', 'Education_1', 'Education_2', 'Education_3']]], axis=1)\n",
    "trainNorm = ubanknorm.iloc[X_train.index]\n",
    "validNorm = ubanknorm.iloc[X_val.index]\n",
    "testNorm = ubanknorm.iloc[X_test.index]"
   ]
  },
  {
   "cell_type": "code",
   "execution_count": 9,
   "metadata": {},
   "outputs": [
    {
     "name": "stdout",
     "output_type": "stream",
     "text": [
      "[[900   0]\n",
      " [ 29  71]]\n",
      "              precision    recall  f1-score   support\n",
      "\n",
      "           0       0.97      1.00      0.98       900\n",
      "           1       1.00      0.71      0.83       100\n",
      "\n",
      "    accuracy                           0.97      1000\n",
      "   macro avg       0.98      0.85      0.91      1000\n",
      "weighted avg       0.97      0.97      0.97      1000\n",
      "\n"
     ]
    }
   ],
   "source": [
    "#CONFUSION MATRIX\n",
    "classifier = KNeighborsClassifier(n_neighbors=3)\n",
    "classifier.fit(trainNorm, y_train)\n",
    "y_pred = classifier.predict(testNorm)\n",
    "print(confusion_matrix(y_test, y_pred))\n",
    "print(classification_report(y_test, y_pred))\n",
    "\n",
    "    #Similar to the previous partition, this algorithm correctly predicted 97% of customers \n",
    "    #The big difference here is this algorithm had no False Positives. This outcome is preferable beecause we can say with higher ceratinty that our model accurately predicts a \"Yes\""
   ]
  }
 ],
 "metadata": {
  "kernelspec": {
   "display_name": "Python 3",
   "language": "python",
   "name": "python3"
  },
  "language_info": {
   "codemirror_mode": {
    "name": "ipython",
    "version": 3
   },
   "file_extension": ".py",
   "mimetype": "text/x-python",
   "name": "python",
   "nbconvert_exporter": "python",
   "pygments_lexer": "ipython3",
   "version": "3.8.3"
  }
 },
 "nbformat": 4,
 "nbformat_minor": 4
}
