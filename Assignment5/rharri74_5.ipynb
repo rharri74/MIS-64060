{
 "cells": [
  {
   "cell_type": "markdown",
   "metadata": {},
   "source": [
    "<h1><b>Assignment #5 - Hierarchical Clustering</b></h1>\n",
    "Ryan Harris\n",
    "<p><i>December 2020</i>"
   ]
  },
  {
   "cell_type": "markdown",
   "metadata": {},
   "source": [
    "<hr>\n",
    "<h2><b>Prepare Data for Analysis</b></h2>\n",
    "<hr>"
   ]
  },
  {
   "cell_type": "markdown",
   "metadata": {},
   "source": [
    "<h4><b><u>Load Dependencies</u></b></h4>"
   ]
  },
  {
   "cell_type": "code",
   "execution_count": 1,
   "metadata": {},
   "outputs": [],
   "source": [
    "%matplotlib inline\n",
    "\n",
    "import pandas as pd\n",
    "import numpy as np\n",
    "import matplotlib.pyplot as plt\n",
    "import scipy.cluster.hierarchy as shc\n",
    "import seaborn as sns\n",
    "from sklearn import preprocessing\n",
    "from sklearn.cluster import KMeans\n",
    "from sklearn.preprocessing import StandardScaler\n",
    "from sklearn.cluster import AgglomerativeClustering\n",
    "from sklearn.decomposition import PCA\n",
    "from sklearn import metrics"
   ]
  },
  {
   "cell_type": "markdown",
   "metadata": {},
   "source": [
    "<h4><b><u>Import, Transform and Normalize Data</u></b></h4>"
   ]
  },
  {
   "cell_type": "code",
   "execution_count": 2,
   "metadata": {},
   "outputs": [
    {
     "data": {
      "text/html": [
       "<div>\n",
       "<style scoped>\n",
       "    .dataframe tbody tr th:only-of-type {\n",
       "        vertical-align: middle;\n",
       "    }\n",
       "\n",
       "    .dataframe tbody tr th {\n",
       "        vertical-align: top;\n",
       "    }\n",
       "\n",
       "    .dataframe thead th {\n",
       "        text-align: right;\n",
       "    }\n",
       "</style>\n",
       "<table border=\"1\" class=\"dataframe\">\n",
       "  <thead>\n",
       "    <tr style=\"text-align: right;\">\n",
       "      <th></th>\n",
       "      <th>mean</th>\n",
       "      <th>std</th>\n",
       "    </tr>\n",
       "  </thead>\n",
       "  <tbody>\n",
       "    <tr>\n",
       "      <th>calories</th>\n",
       "      <td>-2.407984e-16</td>\n",
       "      <td>1.006826</td>\n",
       "    </tr>\n",
       "    <tr>\n",
       "      <th>protein</th>\n",
       "      <td>-5.476100e-17</td>\n",
       "      <td>1.006826</td>\n",
       "    </tr>\n",
       "    <tr>\n",
       "      <th>fat</th>\n",
       "      <td>0.000000e+00</td>\n",
       "      <td>1.006826</td>\n",
       "    </tr>\n",
       "    <tr>\n",
       "      <th>sodium</th>\n",
       "      <td>-7.351477e-17</td>\n",
       "      <td>1.006826</td>\n",
       "    </tr>\n",
       "    <tr>\n",
       "      <th>fiber</th>\n",
       "      <td>-8.401688e-17</td>\n",
       "      <td>1.006826</td>\n",
       "    </tr>\n",
       "    <tr>\n",
       "      <th>carbo</th>\n",
       "      <td>2.400482e-17</td>\n",
       "      <td>1.006826</td>\n",
       "    </tr>\n",
       "    <tr>\n",
       "      <th>sugars</th>\n",
       "      <td>1.012703e-17</td>\n",
       "      <td>1.006826</td>\n",
       "    </tr>\n",
       "    <tr>\n",
       "      <th>potass</th>\n",
       "      <td>-3.300663e-17</td>\n",
       "      <td>1.006826</td>\n",
       "    </tr>\n",
       "    <tr>\n",
       "      <th>vitamins</th>\n",
       "      <td>1.387779e-16</td>\n",
       "      <td>1.006826</td>\n",
       "    </tr>\n",
       "    <tr>\n",
       "      <th>shelf</th>\n",
       "      <td>0.000000e+00</td>\n",
       "      <td>1.006826</td>\n",
       "    </tr>\n",
       "    <tr>\n",
       "      <th>weight</th>\n",
       "      <td>6.263758e-16</td>\n",
       "      <td>1.006826</td>\n",
       "    </tr>\n",
       "    <tr>\n",
       "      <th>cups</th>\n",
       "      <td>3.113125e-16</td>\n",
       "      <td>1.006826</td>\n",
       "    </tr>\n",
       "    <tr>\n",
       "      <th>rating</th>\n",
       "      <td>3.120627e-16</td>\n",
       "      <td>1.006826</td>\n",
       "    </tr>\n",
       "  </tbody>\n",
       "</table>\n",
       "</div>"
      ],
      "text/plain": [
       "                  mean       std\n",
       "calories -2.407984e-16  1.006826\n",
       "protein  -5.476100e-17  1.006826\n",
       "fat       0.000000e+00  1.006826\n",
       "sodium   -7.351477e-17  1.006826\n",
       "fiber    -8.401688e-17  1.006826\n",
       "carbo     2.400482e-17  1.006826\n",
       "sugars    1.012703e-17  1.006826\n",
       "potass   -3.300663e-17  1.006826\n",
       "vitamins  1.387779e-16  1.006826\n",
       "shelf     0.000000e+00  1.006826\n",
       "weight    6.263758e-16  1.006826\n",
       "cups      3.113125e-16  1.006826\n",
       "rating    3.120627e-16  1.006826"
      ]
     },
     "execution_count": 2,
     "metadata": {},
     "output_type": "execute_result"
    }
   ],
   "source": [
    "#Import\n",
    "cer_df = pd.read_csv('//HARRISSERVER/share/School/Datasets/Cereals.csv')\n",
    "\n",
    "#Remove cereals with missing values\n",
    "cer_df = cer_df.dropna()\n",
    "\n",
    "#Create copy of dataframe for normalization\n",
    "cer_df_norm = cer_df.copy()\n",
    "\n",
    "\n",
    "#Assign Continuous Columns to Normalize\n",
    "cols_to_norm = ['calories','protein','fat','sodium','fiber','carbo','sugars','potass','vitamins','shelf','weight','cups','rating']\n",
    "\n",
    "#Normalize only Coninuous Variables\n",
    "scaler = preprocessing.StandardScaler()\n",
    "cer_df_norm[cols_to_norm] = scaler.fit_transform(cer_df[cols_to_norm])\n",
    "#Verify mean ~ 0 and std ~ 1\n",
    "cer_df_norm.describe().transpose()[['mean','std']]"
   ]
  },
  {
   "cell_type": "markdown",
   "metadata": {},
   "source": [
    "<h4><b><u>Determine Number of Clusters</u></b></h4>"
   ]
  },
  {
   "cell_type": "code",
   "execution_count": 3,
   "metadata": {},
   "outputs": [
    {
     "data": {
      "image/png": "[encoded data removed]",
      "text/plain": [
       "<Figure size 1080x504 with 1 Axes>"
      ]
     },
     "metadata": {
      "needs_background": "light"
     },
     "output_type": "display_data"
    }
   ],
   "source": [
    "#Determine number of clusters\n",
    "plt.figure(figsize=(15, 7))\n",
    "plt.title(\"Customer Dendograms\")\n",
    "dend = shc.dendrogram(shc.linkage(cer_df_norm.iloc[:,3:], method='ward'))"
   ]
  },
  {
   "cell_type": "markdown",
   "metadata": {},
   "source": [
    "<i><h4>How many clusters would you choose?</h4></i>\n",
    "<p>Based on above, 5 clusters appears to be the ideal number (imaginary line drawn at about y = 11)"
   ]
  },
  {
   "cell_type": "markdown",
   "metadata": {},
   "source": [
    "<h4><b><u>Apply Hierarchical Clustering (Single, Complete, Average, and Ward)</u></b></h4>"
   ]
  },
  {
   "cell_type": "code",
   "execution_count": 4,
   "metadata": {},
   "outputs": [
    {
     "name": "stdout",
     "output_type": "stream",
     "text": [
      "     Method  Coefficient\n",
      "0    Single     0.213979\n",
      "1  Complete     0.219761\n",
      "2   Average     0.180489\n",
      "3      Ward     0.258006\n"
     ]
    }
   ],
   "source": [
    "#cluster by single linkage and add cluster label to original dataset\n",
    "single_cluster = AgglomerativeClustering(n_clusters=5, affinity='euclidean', linkage='single')\n",
    "single_cluster.fit_predict(cer_df_norm.iloc[:,3:])\n",
    "cer_df['single_cluster'] = single_cluster.labels_\n",
    "\n",
    "#cluster by complete linkage and add cluster label to original dataset\n",
    "complete_cluster = AgglomerativeClustering(n_clusters=5, affinity='euclidean', linkage='complete')\n",
    "complete_cluster.fit_predict(cer_df_norm.iloc[:,3:])\n",
    "cer_df['complete_cluster'] = complete_cluster.labels_\n",
    "\n",
    "#cluster by average linkage and add cluster label to original dataset\n",
    "average_cluster = AgglomerativeClustering(n_clusters=5, affinity='euclidean', linkage='average')\n",
    "average_cluster.fit_predict(cer_df_norm.iloc[:,3:])\n",
    "cer_df['average_cluster'] = average_cluster.labels_\n",
    "\n",
    "#cluster by ward linkage and add cluster label to original dataset\n",
    "ward_cluster = AgglomerativeClustering(n_clusters=5, affinity='euclidean', linkage='ward')\n",
    "ward_cluster.fit_predict(cer_df_norm.iloc[:,3:])\n",
    "cer_df['ward_cluster'] = ward_cluster.labels_\n",
    "\n",
    "#create dataframe for coefficients\n",
    "coef_data = {'Method':['Single','Complete','Average','Ward'], 'Coefficient':[metrics.silhouette_score(cer_df_norm.iloc[:,3:], single_cluster.labels_),\n",
    "                                                                             metrics.silhouette_score(cer_df_norm.iloc[:,3:], complete_cluster.labels_),\n",
    "                                                                             metrics.silhouette_score(cer_df_norm.iloc[:,3:], average_cluster.labels_),\n",
    "                                                                             metrics.silhouette_score(cer_df_norm.iloc[:,3:], ward_cluster.labels_)]}\n",
    "coef_df = pd.DataFrame(data=coef_data)\n",
    "print(coef_df)"
   ]
  },
  {
   "cell_type": "markdown",
   "metadata": {},
   "source": [
    "<i><h4>Choose the best method</h4></i>\n",
    "<p>Based on above, <b><u>Ward</b></u> is the best method as its coefficient is the highest."
   ]
  },
  {
   "cell_type": "markdown",
   "metadata": {},
   "source": [
    "<i><h4>Comment on the differences between hierachical clustering and K-Means</h4></i>\n",
    "<p>Hierarchical clustering can be more useful than k-means when we don't know how many groups will ultimately be needed. Heirarchical clustering allows us to determine the groupings based on the data through the use of a dendogram."
   ]
  },
  {
   "cell_type": "markdown",
   "metadata": {},
   "source": [
    "<h4><b><u>Cluster Stability</u></b></h4>"
   ]
  },
  {
   "cell_type": "markdown",
   "metadata": {},
   "source": [
    "<i>Placeholder</i>"
   ]
  },
  {
   "cell_type": "markdown",
   "metadata": {},
   "source": [
    "<h4><b><u>Healthy Cereals</u></b></h4>"
   ]
  },
  {
   "cell_type": "markdown",
   "metadata": {},
   "source": [
    "<i><h4>Should the data be normalized? If not, how should they be used in the cluster analysis?</h4></i>\n",
    "<p>No, the data should not be normalized. I would look for high values in Protein, Fiber, Potassium, and Vitamins and low values in Fat, Sodium, Carbo, and Sugars. I would trim out Shelf, Weight, Cups, and Rating from the dataset."
   ]
  }
 ],
 "metadata": {
  "kernelspec": {
   "display_name": "Python 3",
   "language": "python",
   "name": "python3"
  },
  "language_info": {
   "codemirror_mode": {
    "name": "ipython",
    "version": 3
   },
   "file_extension": ".py",
   "mimetype": "text/x-python",
   "name": "python",
   "nbconvert_exporter": "python",
   "pygments_lexer": "ipython3",
   "version": "3.8.3"
  }
 },
 "nbformat": 4,
 "nbformat_minor": 4
}
