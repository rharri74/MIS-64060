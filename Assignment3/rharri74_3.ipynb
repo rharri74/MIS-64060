{
 "cells": [
  {
   "cell_type": "markdown",
   "metadata": {},
   "source": [
    "<h1><b>Assignment #3 - Naive Bayes</b></h1>\n",
    "Ryan Harris\n",
    "<p><i>October 2020</i>"
   ]
  },
  {
   "cell_type": "markdown",
   "metadata": {},
   "source": [
    "<h2><b>Prepare Data for Analysis</b></h2>"
   ]
  },
  {
   "cell_type": "markdown",
   "metadata": {},
   "source": [
    "<h4><b><u>Load Dependencies</u></b></h4>"
   ]
  },
  {
   "cell_type": "code",
   "execution_count": 1,
   "metadata": {},
   "outputs": [],
   "source": [
    "%matplotlib inline\n",
    "\n",
    "import pandas as pd\n",
    "import matplotlib.pylab as plt\n",
    "import math\n",
    "import sklearn.metrics as metrics\n",
    "\n",
    "from pathlib import Path\n",
    "from sklearn.model_selection import train_test_split\n",
    "from sklearn.naive_bayes import MultinomialNB\n",
    "from sklearn.metrics import accuracy_score, confusion_matrix, classification_report\n",
    "from dmba import classificationSummary"
   ]
  },
  {
   "cell_type": "markdown",
   "metadata": {},
   "source": [
    "<h4><b><u>Set Definitions</u></b></h4>"
   ]
  },
  {
   "cell_type": "code",
   "execution_count": 2,
   "metadata": {},
   "outputs": [],
   "source": [
    "def rounddown(num, dvsr):\n",
    "    return num - (num%dvsr)"
   ]
  },
  {
   "cell_type": "markdown",
   "metadata": {},
   "source": [
    "<h4><b><u>Import and transform data</u></b></h4>"
   ]
  },
  {
   "cell_type": "code",
   "execution_count": 3,
   "metadata": {},
   "outputs": [
    {
     "data": {
      "text/html": [
       "<div>\n",
       "<style scoped>\n",
       "    .dataframe tbody tr th:only-of-type {\n",
       "        vertical-align: middle;\n",
       "    }\n",
       "\n",
       "    .dataframe tbody tr th {\n",
       "        vertical-align: top;\n",
       "    }\n",
       "\n",
       "    .dataframe thead th {\n",
       "        text-align: right;\n",
       "    }\n",
       "</style>\n",
       "<table border=\"1\" class=\"dataframe\">\n",
       "  <thead>\n",
       "    <tr style=\"text-align: right;\">\n",
       "      <th></th>\n",
       "      <th>CRS_DEP_TIME</th>\n",
       "      <th>CARRIER</th>\n",
       "      <th>DEP_TIME</th>\n",
       "      <th>DEST</th>\n",
       "      <th>DISTANCE</th>\n",
       "      <th>FL_DATE</th>\n",
       "      <th>FL_NUM</th>\n",
       "      <th>ORIGIN</th>\n",
       "      <th>Weather</th>\n",
       "      <th>DAY_WEEK</th>\n",
       "      <th>DAY_OF_MONTH</th>\n",
       "      <th>TAIL_NUM</th>\n",
       "      <th>Flight Status</th>\n",
       "      <th>CRS_DEP_TIME_CAT</th>\n",
       "    </tr>\n",
       "  </thead>\n",
       "  <tbody>\n",
       "    <tr>\n",
       "      <th>0</th>\n",
       "      <td>1455</td>\n",
       "      <td>OH</td>\n",
       "      <td>1455</td>\n",
       "      <td>JFK</td>\n",
       "      <td>184</td>\n",
       "      <td>01/01/2004</td>\n",
       "      <td>5935</td>\n",
       "      <td>BWI</td>\n",
       "      <td>0</td>\n",
       "      <td>Thursday</td>\n",
       "      <td>1</td>\n",
       "      <td>N940CA</td>\n",
       "      <td>ontime</td>\n",
       "      <td>Early Afternoon</td>\n",
       "    </tr>\n",
       "    <tr>\n",
       "      <th>1</th>\n",
       "      <td>1640</td>\n",
       "      <td>DH</td>\n",
       "      <td>1640</td>\n",
       "      <td>JFK</td>\n",
       "      <td>213</td>\n",
       "      <td>01/01/2004</td>\n",
       "      <td>6155</td>\n",
       "      <td>DCA</td>\n",
       "      <td>0</td>\n",
       "      <td>Thursday</td>\n",
       "      <td>1</td>\n",
       "      <td>N405FJ</td>\n",
       "      <td>ontime</td>\n",
       "      <td>Afternoon</td>\n",
       "    </tr>\n",
       "    <tr>\n",
       "      <th>2</th>\n",
       "      <td>1245</td>\n",
       "      <td>DH</td>\n",
       "      <td>1245</td>\n",
       "      <td>LGA</td>\n",
       "      <td>229</td>\n",
       "      <td>01/01/2004</td>\n",
       "      <td>7208</td>\n",
       "      <td>IAD</td>\n",
       "      <td>0</td>\n",
       "      <td>Thursday</td>\n",
       "      <td>1</td>\n",
       "      <td>N695BR</td>\n",
       "      <td>ontime</td>\n",
       "      <td>Early Afternoon</td>\n",
       "    </tr>\n",
       "    <tr>\n",
       "      <th>3</th>\n",
       "      <td>1715</td>\n",
       "      <td>DH</td>\n",
       "      <td>1709</td>\n",
       "      <td>LGA</td>\n",
       "      <td>229</td>\n",
       "      <td>01/01/2004</td>\n",
       "      <td>7215</td>\n",
       "      <td>IAD</td>\n",
       "      <td>0</td>\n",
       "      <td>Thursday</td>\n",
       "      <td>1</td>\n",
       "      <td>N662BR</td>\n",
       "      <td>ontime</td>\n",
       "      <td>Afternoon</td>\n",
       "    </tr>\n",
       "    <tr>\n",
       "      <th>4</th>\n",
       "      <td>1039</td>\n",
       "      <td>DH</td>\n",
       "      <td>1035</td>\n",
       "      <td>LGA</td>\n",
       "      <td>229</td>\n",
       "      <td>01/01/2004</td>\n",
       "      <td>7792</td>\n",
       "      <td>IAD</td>\n",
       "      <td>0</td>\n",
       "      <td>Thursday</td>\n",
       "      <td>1</td>\n",
       "      <td>N698BR</td>\n",
       "      <td>ontime</td>\n",
       "      <td>Morning</td>\n",
       "    </tr>\n",
       "  </tbody>\n",
       "</table>\n",
       "</div>"
      ],
      "text/plain": [
       "   CRS_DEP_TIME CARRIER  DEP_TIME DEST  DISTANCE     FL_DATE  FL_NUM ORIGIN  \\\n",
       "0          1455      OH      1455  JFK       184  01/01/2004    5935    BWI   \n",
       "1          1640      DH      1640  JFK       213  01/01/2004    6155    DCA   \n",
       "2          1245      DH      1245  LGA       229  01/01/2004    7208    IAD   \n",
       "3          1715      DH      1709  LGA       229  01/01/2004    7215    IAD   \n",
       "4          1039      DH      1035  LGA       229  01/01/2004    7792    IAD   \n",
       "\n",
       "   Weather  DAY_WEEK  DAY_OF_MONTH TAIL_NUM Flight Status CRS_DEP_TIME_CAT  \n",
       "0        0  Thursday             1   N940CA        ontime  Early Afternoon  \n",
       "1        0  Thursday             1   N405FJ        ontime        Afternoon  \n",
       "2        0  Thursday             1   N695BR        ontime  Early Afternoon  \n",
       "3        0  Thursday             1   N662BR        ontime        Afternoon  \n",
       "4        0  Thursday             1   N698BR        ontime          Morning  "
      ]
     },
     "execution_count": 3,
     "metadata": {},
     "output_type": "execute_result"
    }
   ],
   "source": [
    "#Import Data\n",
    "flights_df = pd.read_csv('FlightDelays.csv')\n",
    "\n",
    "#Transform Date to Day Name Category\n",
    "flights_df['DAY_WEEK'] = pd.to_datetime(flights_df['FL_DATE']).dt.day_name()\n",
    "\n",
    "#Bucketing departure times in to categoreis by intervals of 300 as CRS_DEP_TIME_CAT\n",
    "flights_df['CRS_DEP_TIME_CAT'] = pd.cut(flights_df['CRS_DEP_TIME'], [500, 900, 1200, 1500, 1800, 2100, 2400], labels=['Early Morning', 'Morning', 'Early Afternoon', 'Afternoon', 'Early Evening','Evening'])\n",
    "\n",
    "#Check data\n",
    "flights_df.head()\n"
   ]
  },
  {
   "cell_type": "markdown",
   "metadata": {},
   "source": [
    "<h4><b><u>Split Into Training and Validation</u></b></h4>"
   ]
  },
  {
   "cell_type": "code",
   "execution_count": 4,
   "metadata": {},
   "outputs": [
    {
     "name": "stdout",
     "output_type": "stream",
     "text": [
      "y_train 1320 y_valid 881\n"
     ]
    }
   ],
   "source": [
    "#Identify predictors and outcome\n",
    "predictors = ['CRS_DEP_TIME_CAT','CARRIER','DEST','DISTANCE','ORIGIN','Weather','DAY_WEEK','DAY_OF_MONTH','TAIL_NUM']\n",
    "outcome = ['Flight Status']\n",
    "\n",
    "#Establish X and y\n",
    "X = pd.get_dummies(flights_df[predictors])\n",
    "y = (flights_df[outcome] == 'ontime').astype(int)\n",
    "classes = ['ontime', 'delayed']\n",
    "\n",
    "#Split into Training and Validation\n",
    "X_train, X_valid, y_train, y_valid = train_test_split(X, y, test_size = .4, random_state = 6011)\n",
    "\n",
    "#Check counts\n",
    "print(\"y_train \"+y_train.size.astype(str),\"y_valid \"+ y_valid.size.astype(str))"
   ]
  },
  {
   "cell_type": "markdown",
   "metadata": {},
   "source": [
    "<h2><b>Perform Analysis</b></h2>"
   ]
  },
  {
   "cell_type": "markdown",
   "metadata": {},
   "source": [
    "<h3><b><u>Naive Bayes</u></b></h3>"
   ]
  },
  {
   "cell_type": "code",
   "execution_count": 5,
   "metadata": {},
   "outputs": [
    {
     "name": "stderr",
     "output_type": "stream",
     "text": [
      "C:\\Users\\harri\\anaconda3\\lib\\site-packages\\sklearn\\utils\\validation.py:73: DataConversionWarning: A column-vector y was passed when a 1d array was expected. Please change the shape of y to (n_samples, ), for example using ravel().\n",
      "  return f(**kwargs)\n"
     ]
    },
    {
     "data": {
      "text/plain": [
       "MultinomialNB(alpha=0.01)"
      ]
     },
     "execution_count": 5,
     "metadata": {},
     "output_type": "execute_result"
    }
   ],
   "source": [
    "flights_nb = MultinomialNB(alpha=0.01)\n",
    "flights_nb.fit(X_train, y_train)"
   ]
  },
  {
   "cell_type": "markdown",
   "metadata": {},
   "source": [
    "<u><b><h3>Predict Probabilities and Membership</u></b></h3>"
   ]
  },
  {
   "cell_type": "code",
   "execution_count": 6,
   "metadata": {},
   "outputs": [],
   "source": [
    "#predict probabilities\n",
    "predProb_train = flights_nb.predict_proba(X_train)\n",
    "predProb_valid = flights_nb.predict_proba(X_valid)\n",
    "\n",
    "\n",
    "#predict class membership\n",
    "y_train_pred = flights_nb.predict(X_train)\n",
    "y_valid_pred = flights_nb.predict(X_valid)"
   ]
  },
  {
   "cell_type": "markdown",
   "metadata": {},
   "source": [
    "<h2><b>Results</b></h2>"
   ]
  },
  {
   "cell_type": "markdown",
   "metadata": {},
   "source": [
    "<u><b><h3>Counts and Proportion Table by Airport</u></b></h3>"
   ]
  },
  {
   "cell_type": "code",
   "execution_count": 7,
   "metadata": {},
   "outputs": [
    {
     "name": "stdout",
     "output_type": "stream",
     "text": [
      "                    TAIL_NUM\n",
      "DEST Flight_Status          \n",
      "EWR  delayed             161\n",
      "     ontime              504\n",
      "JFK  delayed              84\n",
      "     ontime              302\n",
      "LGA  delayed             183\n",
      "     ontime              967\n",
      "                     TAIL_NUM\n",
      "DEST Flight_Status           \n",
      "EWR  delayed        24.210526\n",
      "     ontime         75.789474\n",
      "JFK  delayed        21.761658\n",
      "     ontime         78.238342\n",
      "LGA  delayed        15.913043\n",
      "     ontime         84.086957\n"
     ]
    }
   ],
   "source": [
    "#trim DF to just Airport and flight status\n",
    "flights_df_trim = flights_df[['DEST','Flight Status','TAIL_NUM']].copy()\n",
    "flights_df_trim.columns = ['DEST','Flight_Status','TAIL_NUM'] \n",
    "\n",
    "#Counts Table\n",
    "table = flights_df_trim.groupby(['DEST','Flight_Status']).count()\n",
    "print(table)\n",
    "#Percentages Tableu\n",
    "table_pcts = table.groupby(level=0).apply(lambda x:\n",
    "                                         100 * x / float(x.sum()))\n",
    "print(table_pcts)"
   ]
  },
  {
   "cell_type": "markdown",
   "metadata": {},
   "source": [
    "<u><b><h3>Confusion Matrix and ROC for Validation Data</u></b></h3>"
   ]
  },
  {
   "cell_type": "code",
   "execution_count": 8,
   "metadata": {},
   "outputs": [
    {
     "name": "stdout",
     "output_type": "stream",
     "text": [
      "Confusion Matrix (Accuracy 0.7185)\n",
      "\n",
      "        Prediction\n",
      " Actual  ontime delayed\n",
      " ontime      62     123\n",
      "delayed     125     571\n"
     ]
    },
    {
     "data": {
      "image/png": "[encoded data removed]",
      "text/plain": [
       "<Figure size 432x288 with 1 Axes>"
      ]
     },
     "metadata": {
      "needs_background": "light"
     },
     "output_type": "display_data"
    }
   ],
   "source": [
    "#Confusion matrix\n",
    "classificationSummary(y_valid, y_valid_pred, class_names=classes)\n",
    "\n",
    "#Establish False Positive Rate (fpr) and True Positive Rate (tpr)\n",
    "preds = predProb_valid[:,1]\n",
    "fpr, tpr, threshold = metrics.roc_curve(y_valid, y_valid_pred)\n",
    "roc_auc = metrics.auc(fpr, tpr)\n",
    "\n",
    "#plot ROC\n",
    "plt.title('ROC for Validation Data')\n",
    "plt.plot(fpr, tpr, 'b', label = 'AUC = %0.2f' % roc_auc)\n",
    "plt.legend(loc = 'lower right')\n",
    "plt.plot([0, 1], [0, 1],'r--')\n",
    "plt.xlim([0, 1])\n",
    "plt.ylim([0, 1])\n",
    "plt.ylabel('True Positive Rate (TPR)')\n",
    "plt.xlabel('False Positive Rate (FPR)')\n",
    "plt.show()"
   ]
  }
 ],
 "metadata": {
  "kernelspec": {
   "display_name": "Python 3",
   "language": "python",
   "name": "python3"
  },
  "language_info": {
   "codemirror_mode": {
    "name": "ipython",
    "version": 3
   },
   "file_extension": ".py",
   "mimetype": "text/x-python",
   "name": "python",
   "nbconvert_exporter": "python",
   "pygments_lexer": "ipython3",
   "version": "3.8.3"
  }
 },
 "nbformat": 4,
 "nbformat_minor": 4
}
